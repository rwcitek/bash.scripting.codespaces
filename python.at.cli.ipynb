{
 "cells": [
  {
   "cell_type": "markdown",
   "metadata": {},
   "source": [
    "## Running Python at the command line\n"
   ]
  },
  {
   "cell_type": "markdown",
   "metadata": {},
   "source": [
    "## Your own code"
   ]
  },
  {
   "cell_type": "markdown",
   "metadata": {},
   "source": [
    "Create a python file.  Can also be created using VSCode's menu \"File > New File ...\" and typing in the file name.\n"
   ]
  },
  {
   "cell_type": "code",
   "execution_count": null,
   "metadata": {},
   "outputs": [],
   "source": [
    "%alias python3 python3\n",
    "%alias curl curl\n",
    "%alias unzip unzip"
   ]
  },
  {
   "cell_type": "code",
   "execution_count": null,
   "metadata": {},
   "outputs": [],
   "source": [
    "%%writefile hello_world.py\n",
    "\n",
    "print(\"hello world!\")"
   ]
  },
  {
   "cell_type": "markdown",
   "metadata": {},
   "source": [
    "Run the python file.  Can also be done by typing this in the VSCode terminal pane.\n"
   ]
  },
  {
   "cell_type": "code",
   "execution_count": null,
   "metadata": {},
   "outputs": [],
   "source": [
    "python3 hello_world.py\n"
   ]
  },
  {
   "cell_type": "markdown",
   "metadata": {},
   "source": [
    "In the Explorer pane on the left, open the `hello_world.py` script, make a change, save the file ( Ctrl+s or \"File > Save\")\n",
    "\n",
    "In the Source Control pane on the left, commit to git any changes to the python script.  Then sync the changes to GitHub, if desired.\n",
    "\n",
    "\n"
   ]
  },
  {
   "cell_type": "markdown",
   "metadata": {},
   "source": [
    "Wash, rinse, repeat."
   ]
  },
  {
   "cell_type": "markdown",
   "metadata": {},
   "source": [
    "## Code from \"Automate the Boring Stuff\" "
   ]
  },
  {
   "cell_type": "markdown",
   "metadata": {},
   "source": [
    "From [\"Automate the Boring Stuff\" by Al Sweigart]( https://automatetheboringstuff.com/#toc )"
   ]
  },
  {
   "cell_type": "code",
   "execution_count": null,
   "metadata": {},
   "outputs": [],
   "source": [
    "curl -L -O \"https://www.nostarch.com/download/Automate_the_Boring_Stuff_onlinematerials.zip\"\n"
   ]
  },
  {
   "cell_type": "code",
   "execution_count": null,
   "metadata": {},
   "outputs": [],
   "source": [
    "unzip Automate_the_Boring_Stuff_onlinematerials.zip\n"
   ]
  },
  {
   "cell_type": "markdown",
   "metadata": {},
   "source": [
    "In the terminal window, change to the `automate_online-materials/` folder.  Once there, you can run any script by typing `python3` follow by the name of the python script.  For example,\n",
    "\n",
    "```bash\n",
    "$ cd automate_online-materials/\n",
    "$ python3 hello.py\n",
    "```\n",
    "\n",
    "\n"
   ]
  }
 ],
 "metadata": {
  "kernelspec": {
   "display_name": "Python 3",
   "language": "python",
   "name": "python3"
  },
  "language_info": {
   "codemirror_mode": {
    "name": "ipython",
    "version": 3
   },
   "file_extension": ".py",
   "mimetype": "text/x-python",
   "name": "python",
   "nbconvert_exporter": "python",
   "pygments_lexer": "ipython3",
   "version": "3.12.1"
  }
 },
 "nbformat": 4,
 "nbformat_minor": 2
}
