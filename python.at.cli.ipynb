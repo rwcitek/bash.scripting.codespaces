{
 "cells": [
  {
   "cell_type": "markdown",
   "metadata": {},
   "source": [
    "## Running Python at the command line\n"
   ]
  },
  {
   "cell_type": "markdown",
   "metadata": {},
   "source": [
    "## Your own code"
   ]
  },
  {
   "cell_type": "markdown",
   "metadata": {},
   "source": [
    "Create a python file.  Can also be created using VSCode's menu \"File > New File ...\" and typing in the file name.\n"
   ]
  },
  {
   "cell_type": "code",
   "execution_count": 8,
   "metadata": {},
   "outputs": [],
   "source": [
    "%alias python3 python3\n",
    "%alias curl curl\n",
    "%alias unzip unzip"
   ]
  },
  {
   "cell_type": "code",
   "execution_count": 2,
   "metadata": {},
   "outputs": [
    {
     "name": "stdout",
     "output_type": "stream",
     "text": [
      "Writing hello_world.py\n"
     ]
    }
   ],
   "source": [
    "%%writefile hello_world.py\n",
    "\n",
    "print(\"hello world!\")"
   ]
  },
  {
   "cell_type": "markdown",
   "metadata": {},
   "source": [
    "Run the python file.  Can also be done by typing this in the VSCode terminal pane.\n"
   ]
  },
  {
   "cell_type": "code",
   "execution_count": 3,
   "metadata": {},
   "outputs": [
    {
     "name": "stdout",
     "output_type": "stream",
     "text": [
      "hello world!\n"
     ]
    }
   ],
   "source": [
    "python3 hello_world.py\n"
   ]
  },
  {
   "cell_type": "markdown",
   "metadata": {},
   "source": [
    "In the Explorer pane on the left, open the `hello_world.py` script, make a change, save the file ( Ctrl+s or \"File > Save\")\n",
    "\n",
    "In the Source Control pane on the left, commit to git any changes to the python script.  Then sync the changes to GitHub, if desired.\n",
    "\n",
    "\n"
   ]
  },
  {
   "cell_type": "markdown",
   "metadata": {},
   "source": [
    "Wash, rinse, repeat."
   ]
  },
  {
   "cell_type": "markdown",
   "metadata": {},
   "source": [
    "## Code from \"Automate the Boring Stuff\" "
   ]
  },
  {
   "cell_type": "markdown",
   "metadata": {},
   "source": []
  },
  {
   "cell_type": "code",
   "execution_count": 6,
   "metadata": {},
   "outputs": [
    {
     "name": "stdout",
     "output_type": "stream",
     "text": [
      "  % Total    % Received % Xferd  Average Speed   Time    Time     Time  Current\n",
      "                                 Dload  Upload   Total   Spent    Left  Speed\n",
      "100   167  100   167    0     0   2609      0 --:--:-- --:--:-- --:--:--  2609\n",
      "100 8438k  100 8438k    0     0  32.8M      0 --:--:-- --:--:-- --:--:-- 32.8M\n"
     ]
    }
   ],
   "source": [
    "curl -L -O \"https://www.nostarch.com/download/Automate_the_Boring_Stuff_onlinematerials.zip\"\n"
   ]
  },
  {
   "cell_type": "code",
   "execution_count": 10,
   "metadata": {},
   "outputs": [
    {
     "name": "stdout",
     "output_type": "stream",
     "text": [
      "Archive:  Automate_the_Boring_Stuff_onlinematerials.zip\n",
      "   creating: automate_online-materials/\n",
      "  inflating: automate_online-materials/alarm.wav  \n",
      "  inflating: automate_online-materials/allMyCats1.py  \n",
      "  inflating: automate_online-materials/allMyCats2.py  \n",
      "  inflating: automate_online-materials/backupToZip.py  \n",
      "  inflating: automate_online-materials/birthdays.py  \n",
      "  inflating: automate_online-materials/boxPrint.py  \n",
      "  inflating: automate_online-materials/buggyAddingProgram.py  \n",
      "  inflating: automate_online-materials/bulletPointAdder.py  \n",
      "  inflating: automate_online-materials/calcProd.py  \n",
      "  inflating: automate_online-materials/catlogo.png  \n",
      "  inflating: automate_online-materials/catnapping.py  \n",
      "  inflating: automate_online-materials/census2010.py  \n",
      "  inflating: automate_online-materials/censuspopdata.xlsx  \n",
      "  inflating: automate_online-materials/characterCount.py  \n",
      "  inflating: automate_online-materials/coinFlip.py  \n",
      "  inflating: automate_online-materials/combinedminutes.pdf  \n",
      "  inflating: automate_online-materials/combinePdfs.py  \n",
      "  inflating: automate_online-materials/countdown.py  \n",
      "  inflating: automate_online-materials/demo.docx  \n",
      "  inflating: automate_online-materials/dictionary.txt  \n",
      "  inflating: automate_online-materials/dimensions.xlsx  \n",
      "  inflating: automate_online-materials/downloadXkcd.py  \n",
      "  inflating: automate_online-materials/duesRecords.xlsx  \n",
      "  inflating: automate_online-materials/encrypted.pdf  \n",
      "  inflating: automate_online-materials/encryptedminutes.pdf  \n",
      "  inflating: automate_online-materials/errorExample.py  \n",
      "  inflating: automate_online-materials/example.csv  \n",
      "  inflating: automate_online-materials/example.html  \n",
      "  inflating: automate_online-materials/example.xlsx  \n",
      " extracting: automate_online-materials/example.zip  \n",
      "  inflating: automate_online-materials/excelSpreadsheets.zip  \n",
      "  inflating: automate_online-materials/exitExample.py  \n",
      "  inflating: automate_online-materials/factorialLog.py  \n",
      "  inflating: automate_online-materials/fiveTimes.py  \n",
      "  inflating: automate_online-materials/formFiller.py  \n",
      "  inflating: automate_online-materials/freezeExample.xlsx  \n",
      "  inflating: automate_online-materials/getDocxText.py  \n",
      "  inflating: automate_online-materials/guessTheNumber.py  \n",
      " extracting: automate_online-materials/guests.txt  \n",
      "  inflating: automate_online-materials/headings.docx  \n",
      "  inflating: automate_online-materials/hello.py  \n",
      "  inflating: automate_online-materials/helloFunc.py  \n",
      "  inflating: automate_online-materials/helloFunc2.py  \n",
      "  inflating: automate_online-materials/helloworld.docx  \n",
      "  inflating: automate_online-materials/inventory.py  \n",
      "  inflating: automate_online-materials/isPhoneNumber.py  \n",
      "  inflating: automate_online-materials/littleKid.py  \n",
      "  inflating: automate_online-materials/lucky.py  \n",
      "  inflating: automate_online-materials/magic8Ball.py  \n",
      "  inflating: automate_online-materials/magic8Ball2.py  \n",
      "  inflating: automate_online-materials/mapIt.py  \n",
      "  inflating: automate_online-materials/mcb.pyw  \n",
      "  inflating: automate_online-materials/meetingminutes.pdf  \n",
      "  inflating: automate_online-materials/meetingminutes2.pdf  \n",
      "  inflating: automate_online-materials/merged.xlsx  \n",
      "  inflating: automate_online-materials/mouseNow.py  \n",
      "  inflating: automate_online-materials/mouseNow2.py  \n",
      "  inflating: automate_online-materials/multidownloadXkcd.py  \n",
      "  inflating: automate_online-materials/multipleParagraphs.docx  \n",
      "  inflating: automate_online-materials/myPets.py  \n",
      "  inflating: automate_online-materials/passingReference.py  \n",
      "  inflating: automate_online-materials/phoneAndEmail.py  \n",
      "  inflating: automate_online-materials/picnicTable.py  \n",
      "  inflating: automate_online-materials/prettyCharacterCount.py  \n",
      "  inflating: automate_online-materials/printRandom.py  \n",
      "  inflating: automate_online-materials/produceSales.xlsx  \n",
      "  inflating: automate_online-materials/pw.py  \n",
      "  inflating: automate_online-materials/quickWeather.py  \n",
      "  inflating: automate_online-materials/randomQuizGenerator.py  \n",
      "  inflating: automate_online-materials/readCensusExcel.py  \n",
      "  inflating: automate_online-materials/readDocx.py  \n",
      "  inflating: automate_online-materials/removeCsvHeader.py  \n",
      "  inflating: automate_online-materials/removeCsvHeader.zip  \n",
      "  inflating: automate_online-materials/renameDates.py  \n",
      "  inflating: automate_online-materials/resizeAndAddLogo.py  \n",
      "  inflating: automate_online-materials/restyled.docx  \n",
      "  inflating: automate_online-materials/sameName.py  \n",
      "  inflating: automate_online-materials/sameName2.py  \n",
      "  inflating: automate_online-materials/sameName3.py  \n",
      "  inflating: automate_online-materials/sameName4.py  \n",
      "  inflating: automate_online-materials/sampleChart.xlsx  \n",
      "  inflating: automate_online-materials/sendDuesReminders.py  \n",
      "  inflating: automate_online-materials/stopwatch.py  \n",
      "  inflating: automate_online-materials/styled.xlsx  \n",
      "  inflating: automate_online-materials/styles.xlsx  \n",
      "  inflating: automate_online-materials/swordfish.py  \n",
      "  inflating: automate_online-materials/textMyself.py  \n",
      "  inflating: automate_online-materials/threadDemo.py  \n",
      "  inflating: automate_online-materials/ticTacToe.py  \n",
      "  inflating: automate_online-materials/torrentStarter.py  \n",
      "  inflating: automate_online-materials/twoPage.docx  \n",
      "  inflating: automate_online-materials/updatedProduceSales.xlsx  \n",
      "  inflating: automate_online-materials/updateProduce.py  \n",
      "  inflating: automate_online-materials/validateInput.py  \n",
      "  inflating: automate_online-materials/vampire.py  \n",
      "  inflating: automate_online-materials/vampire2.py  \n",
      "  inflating: automate_online-materials/watermark.pdf  \n",
      "  inflating: automate_online-materials/zeroDivide.py  \n",
      "  inflating: automate_online-materials/zophie.png  \n"
     ]
    }
   ],
   "source": [
    "unzip Automate_the_Boring_Stuff_onlinematerials.zip\n"
   ]
  },
  {
   "cell_type": "markdown",
   "metadata": {},
   "source": [
    "In the terminal window, change to the `automate_online-materials/` folder.  Once there, you can run any script by typing `python3` follow by the name of the python script.  For example,\n",
    "\n",
    "```bash\n",
    "$ cd automate_online-materials/\n",
    "$ python3 hello.py\n",
    "```\n",
    "\n",
    "\n"
   ]
  }
 ],
 "metadata": {
  "kernelspec": {
   "display_name": "Python 3",
   "language": "python",
   "name": "python3"
  },
  "language_info": {
   "codemirror_mode": {
    "name": "ipython",
    "version": 3
   },
   "file_extension": ".py",
   "mimetype": "text/x-python",
   "name": "python",
   "nbconvert_exporter": "python",
   "pygments_lexer": "ipython3",
   "version": "3.12.1"
  }
 },
 "nbformat": 4,
 "nbformat_minor": 2
}
