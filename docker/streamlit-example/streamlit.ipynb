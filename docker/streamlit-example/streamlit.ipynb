{
 "cells": [
  {
   "cell_type": "markdown",
   "id": "ea10a6e6",
   "metadata": {},
   "source": [
    "## Install Streamlit\n"
   ]
  },
  {
   "cell_type": "code",
   "execution_count": 1,
   "id": "159c9dfb",
   "metadata": {},
   "outputs": [],
   "source": [
    "%%capture\n",
    "!pip install streamlit\n"
   ]
  },
  {
   "cell_type": "markdown",
   "id": "fc70f94c",
   "metadata": {},
   "source": [
    "# Create a Streamlit script\n",
    "\n"
   ]
  },
  {
   "cell_type": "code",
   "execution_count": 2,
   "id": "fe89f64b",
   "metadata": {},
   "outputs": [
    {
     "name": "stdout",
     "output_type": "stream",
     "text": [
      "Overwriting app.py\n"
     ]
    }
   ],
   "source": [
    "%%writefile app.py\n",
    "import numpy as np\n",
    "import matplotlib.pyplot as plt\n",
    "import streamlit as st\n",
    "\n",
    "st.title(\"Linear-Log Plotter\")\n",
    "\n",
    "log = st.checkbox(\"Use log scale for Y-axis\")\n",
    "\n",
    "x = np.linspace(0.1, 100, 1000)\n",
    "y = x\n",
    "\n",
    "plt.figure(figsize=(10, 6))\n",
    "if log:\n",
    "    plt.yscale('log')\n",
    "\n",
    "plt.plot(x, y)\n",
    "plt.xlabel(\"X-axis\")\n",
    "plt.ylabel(\"Y-axis\")\n",
    "plt.title(\"Linear vs Log Scale Plot\")\n",
    "st.pyplot(plt)"
   ]
  },
  {
   "cell_type": "markdown",
   "id": "bfbb57cf",
   "metadata": {},
   "source": [
    "# Run Streamlit\n"
   ]
  },
  {
   "cell_type": "code",
   "execution_count": 3,
   "id": "fd1725f5",
   "metadata": {},
   "outputs": [
    {
     "name": "stdout",
     "output_type": "stream",
     "text": [
      "\n",
      "Collecting usage statistics. To deactivate, set browser.gatherUsageStats to false.\n",
      "\u001b[0m\n",
      "\u001b[0m\n",
      "\u001b[34m\u001b[1m  You can now view your Streamlit app in your browser.\u001b[0m\n",
      "\u001b[0m\n",
      "\u001b[34m  Local URL: \u001b[0m\u001b[1mhttp://localhost:8501\u001b[0m\n",
      "\u001b[34m  Network URL: \u001b[0m\u001b[1mhttp://10.0.2.130:8501\u001b[0m\n",
      "\u001b[34m  External URL: \u001b[0m\u001b[1mhttp://172.182.200.132:8501\u001b[0m\n",
      "\u001b[0m\n",
      "^C\n",
      "\u001b[34m  Stopping...\u001b[0m\n"
     ]
    }
   ],
   "source": [
    "!streamlit run app.py\n"
   ]
  }
 ],
 "metadata": {
  "kernelspec": {
   "display_name": "Python 3",
   "language": "python",
   "name": "python3"
  },
  "language_info": {
   "codemirror_mode": {
    "name": "ipython",
    "version": 3
   },
   "file_extension": ".py",
   "mimetype": "text/x-python",
   "name": "python",
   "nbconvert_exporter": "python",
   "pygments_lexer": "ipython3",
   "version": "3.12.1"
  }
 },
 "nbformat": 4,
 "nbformat_minor": 5
}
