{
 "cells": [
  {
   "attachments": {},
   "cell_type": "markdown",
   "id": "fde8311e",
   "metadata": {},
   "source": [
    "# Logging in to DockerHub\n"
   ]
  },
  {
   "attachments": {},
   "cell_type": "markdown",
   "id": "0950ce40",
   "metadata": {},
   "source": [
    "Do not run this in the VSCode Jupyter environment.  Instead, run `bash jupyter.light.sh` in the terminal and open the Jupyter lab service in the browser.  Then go through this notebook and the `docker.2-intro` notebook.\n",
    "\n",
    "This not only logs in to DockerHub, but also creates the necessary ~/.docker/config.json file."
   ]
  },
  {
   "attachments": {},
   "cell_type": "markdown",
   "id": "ac8cd6f1",
   "metadata": {},
   "source": [
    "Set your DockerHub username as a variable."
   ]
  },
  {
   "cell_type": "code",
   "execution_count": null,
   "id": "ccda941e",
   "metadata": {
    "vscode": {
     "languageId": "shellscript"
    }
   },
   "outputs": [],
   "source": [
    "import getpass"
   ]
  },
  {
   "cell_type": "code",
   "execution_count": null,
   "id": "b665d740",
   "metadata": {
    "vscode": {
     "languageId": "shellscript"
    }
   },
   "outputs": [],
   "source": [
    "dh_user = input(\"Enter DockerHub username: \")"
   ]
  },
  {
   "cell_type": "code",
   "execution_count": null,
   "id": "5e76bdb9",
   "metadata": {
    "vscode": {
     "languageId": "shellscript"
    }
   },
   "outputs": [],
   "source": [
    "dh_password = getpass.getpass(\"Enter DockerHub PAT: \")"
   ]
  },
  {
   "cell_type": "code",
   "execution_count": null,
   "id": "6d677f84",
   "metadata": {
    "vscode": {
     "languageId": "shellscript"
    }
   },
   "outputs": [],
   "source": [
    "!<<< \"{dh_password}\" docker login --username \"{dh_user}\" --password-stdin"
   ]
  },
  {
   "cell_type": "code",
   "execution_count": null,
   "id": "b376be8e",
   "metadata": {
    "vscode": {
     "languageId": "shellscript"
    }
   },
   "outputs": [],
   "source": [
    "!echo dh_user=\"{dh_user}\" > ~/.docker/config.rc\n",
    "!echo dh_password=\\\"\"{dh_password}\"\\\" >> ~/.docker/config.rc"
   ]
  },
  {
   "cell_type": "code",
   "execution_count": null,
   "id": "ceec4e51-4872-4f24-b5c1-610634be057a",
   "metadata": {},
   "outputs": [],
   "source": []
  }
 ],
 "metadata": {
  "kernelspec": {
   "display_name": "Python 3 (ipykernel)",
   "language": "python",
   "name": "python3"
  },
  "language_info": {
   "codemirror_mode": {
    "name": "ipython",
    "version": 3
   },
   "file_extension": ".py",
   "mimetype": "text/x-python",
   "name": "python",
   "nbconvert_exporter": "python",
   "pygments_lexer": "ipython3",
   "version": "3.12.3"
  }
 },
 "nbformat": 4,
 "nbformat_minor": 5
}
