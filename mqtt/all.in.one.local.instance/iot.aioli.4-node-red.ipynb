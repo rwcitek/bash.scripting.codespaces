{
 "cells": [
  {
   "cell_type": "markdown",
   "id": "3fac2dd2-0d9f-40f5-9989-338aec277ce8",
   "metadata": {},
   "source": [
    "# All-in-one Node-RED, subscriber, publisher, broker container\n",
    "\n",
    "This version is similar to the original version.\n",
    "\n",
    "For more info on [MQTT]( https://en.wikipedia.org/wiki/MQTT )\n",
    "\n",
    "These commmands have been tested and verify to work with Docker on a Chromebook and on GitHub's CodeSpaces.\n"
   ]
  },
  {
   "cell_type": "markdown",
   "id": "e8a41931-1d95-4314-b72e-943839246c28",
   "metadata": {},
   "source": [
    "## Verify that container exists\n"
   ]
  },
  {
   "cell_type": "code",
   "execution_count": null,
   "id": "d2a8e5ec-1739-486a-9755-9c5bbdaf1f6d",
   "metadata": {},
   "outputs": [],
   "source": [
    "docker container list --all | grep mqtt-red\n"
   ]
  },
  {
   "cell_type": "markdown",
   "id": "6bc81eab-d919-461f-a575-7360a56f84e8",
   "metadata": {},
   "source": [
    "## Run node-red in container"
   ]
  },
  {
   "cell_type": "code",
   "execution_count": null,
   "id": "2511304a-5045-44ca-8685-c6c5b056e53f",
   "metadata": {},
   "outputs": [],
   "source": [
    "docker container exec --detach mqtt-red \\\n",
    "  node-red ; sleep 2\n",
    "docker container exec mqtt-red netstat -plnt\n",
    "docker container cp node-red.flows.aioli.json mqtt-red:/root/.node-red/lib/flows\n",
    "echo -e \"\\n\\nNode-RED URL:    http://localhost:1880\\n\\n\"\n",
    "\n"
   ]
  },
  {
   "cell_type": "markdown",
   "id": "6a03860a-334d-4eb4-aa24-d6b67ec29448",
   "metadata": {},
   "source": [
    "Open the link in a browser."
   ]
  },
  {
   "cell_type": "markdown",
   "id": "1d805890-4b3c-4b7f-9681-3f3e8cb09719",
   "metadata": {},
   "source": [
    "## In Node-RED\n",
    "\n",
    "### Import a flow diagram\n",
    "\n",
    "1. Click Menu ( the hamburger icon, upper right corner )\n",
    "2. Click Import ( or Ctrl+i )\n",
    "3. Click Local\n",
    "4. Click node-red.flows.mio.json\n",
    "5. Click Import\n",
    "6. Click \"CNM IoT\" tab\n",
    "7. Click Deploy ( upper right corner )\n",
    "\n",
    "### View the dashboard\n",
    "1. Click Menu > View > Dashboard\n",
    "1. Click the Expand icon ( square box with arrow, to the right of the Theme tab )\n",
    "\n",
    "### Experiment\n",
    "1. Click Menu > View > Debug messages\n",
    "1. Click buttons and view the dashboard\n",
    "\n"
   ]
  },
  {
   "cell_type": "code",
   "execution_count": null,
   "id": "094efc48-683e-4bec-a2c6-0706d1a4782b",
   "metadata": {},
   "outputs": [],
   "source": []
  }
 ],
 "metadata": {
  "kernelspec": {
   "display_name": "Bash",
   "language": "bash",
   "name": "bash"
  },
  "language_info": {
   "codemirror_mode": "shell",
   "file_extension": ".sh",
   "mimetype": "text/x-sh",
   "name": "bash"
  }
 },
 "nbformat": 4,
 "nbformat_minor": 5
}
