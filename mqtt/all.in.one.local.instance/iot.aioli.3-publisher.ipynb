{
 "cells": [
  {
   "cell_type": "markdown",
   "id": "3fac2dd2-0d9f-40f5-9989-338aec277ce8",
   "metadata": {},
   "source": [
    "# Most-in-one Node-RED, subscriber, publisher container\n",
    "\n",
    "This version is similar to the original version,\n",
    "but differs in that it uses the public broker at \\[[mqtt.eclipseprojects.io]( https://mqtt.eclipseprojects.io/ )\\].\n",
    "\n",
    "For more info on [MQTT]( https://en.wikipedia.org/wiki/MQTT )\n",
    "\n",
    "These commmands have been tested and verify to work with Docker on a Chromebook and on GitHub's CodeSpaces.\n",
    "\n"
   ]
  },
  {
   "cell_type": "markdown",
   "id": "9bc37305-01af-4b0b-b820-d4bed36c4f1b",
   "metadata": {},
   "source": [
    "## Verify that container exists\n"
   ]
  },
  {
   "cell_type": "code",
   "execution_count": null,
   "id": "f1b47a44-8fd5-4df0-8418-4b13ef58568a",
   "metadata": {},
   "outputs": [],
   "source": [
    "docker container list --all | grep mqtt-red\n"
   ]
  },
  {
   "cell_type": "markdown",
   "id": "f49fc72d-4692-420c-8df4-658b7152a245",
   "metadata": {},
   "source": [
    "## Publish a message\n"
   ]
  },
  {
   "cell_type": "code",
   "execution_count": null,
   "id": "6bd18099-7f56-4ab7-be13-63a94fcb6135",
   "metadata": {},
   "outputs": [],
   "source": [
    "docker container exec mqtt-red \\\n",
    "  mosquitto_pub \\\n",
    "    --host localhost \\\n",
    "    --port 1883 \\\n",
    "    --topic feeds/test \\\n",
    "    --message \"Hello World\"\n"
   ]
  },
  {
   "cell_type": "code",
   "execution_count": null,
   "id": "d5ea0606-64ea-4dbe-b7f9-5723a33d3550",
   "metadata": {},
   "outputs": [],
   "source": []
  }
 ],
 "metadata": {
  "kernelspec": {
   "display_name": "Bash",
   "language": "bash",
   "name": "bash"
  },
  "language_info": {
   "codemirror_mode": "shell",
   "file_extension": ".sh",
   "mimetype": "text/x-sh",
   "name": "bash"
  }
 },
 "nbformat": 4,
 "nbformat_minor": 5
}
