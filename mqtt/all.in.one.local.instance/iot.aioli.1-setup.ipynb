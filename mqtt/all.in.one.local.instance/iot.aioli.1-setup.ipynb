{
 "cells": [
  {
   "cell_type": "markdown",
   "id": "3fac2dd2-0d9f-40f5-9989-338aec277ce8",
   "metadata": {},
   "source": [
    "# All-in-one Node-RED, subscriber, publisher, broker container\n",
    "\n",
    "This version is similar to the original version.\n",
    "\n",
    "For more info on [MQTT]( https://en.wikipedia.org/wiki/MQTT )\n",
    "\n",
    "These commmands have been tested and verify to work with Docker on a Chromebook and on GitHub's CodeSpaces.\n",
    "\n",
    "Run `bash jupyter.light.sh` first to set up the Jupyter environment.\n",
    "\n"
   ]
  },
  {
   "cell_type": "markdown",
   "id": "b2bd8ad7",
   "metadata": {},
   "source": [
    "## Pull and tag images"
   ]
  },
  {
   "cell_type": "code",
   "execution_count": null,
   "id": "8ecdc27c-fe10-477b-a7db-521ac14b8370",
   "metadata": {},
   "outputs": [],
   "source": [
    "docker image pull rwcitek/mqtt-red\n",
    "docker image tag rwcitek/mqtt-red:latest mqtt-red"
   ]
  },
  {
   "cell_type": "markdown",
   "id": "77689069-6f6d-424a-bd8f-8c1449d9be22",
   "metadata": {},
   "source": [
    "Verify image has been pulled and tagged."
   ]
  },
  {
   "cell_type": "code",
   "execution_count": null,
   "id": "49fd55e0-89ea-489f-8c3a-6bcad6a59df6",
   "metadata": {},
   "outputs": [],
   "source": [
    "docker image list --all"
   ]
  },
  {
   "cell_type": "markdown",
   "id": "48d51857-d23e-4111-a37e-36d13f6ac047",
   "metadata": {},
   "source": [
    "## Remove any existing container\n"
   ]
  },
  {
   "cell_type": "code",
   "execution_count": null,
   "id": "7dc0b992-6928-4706-8c03-f5696b5ab8fb",
   "metadata": {},
   "outputs": [],
   "source": [
    "docker container stop mqtt-red\n",
    "docker container rm mqtt-red\n",
    "true"
   ]
  },
  {
   "cell_type": "code",
   "execution_count": null,
   "id": "947b2c7d-87c2-4d37-9537-988cf3610d50",
   "metadata": {},
   "outputs": [],
   "source": [
    "docker container list --all"
   ]
  },
  {
   "cell_type": "markdown",
   "id": "7c26649e-94b9-4dde-95d7-b357e27361bd",
   "metadata": {},
   "source": [
    "## Create the Docker container environment\n",
    "\n"
   ]
  },
  {
   "cell_type": "code",
   "execution_count": null,
   "id": "f5efb9e8-c708-442b-b53a-343f8401ea44",
   "metadata": {},
   "outputs": [],
   "source": [
    "docker container run \\\n",
    "  --rm \\\n",
    "  --detach \\\n",
    "  --name mqtt-red \\\n",
    "  --publish 1880:1880 \\\n",
    "  --publish 1883:1883 \\\n",
    "  mqtt-red \\\n",
    "    sleep inf"
   ]
  },
  {
   "cell_type": "code",
   "execution_count": null,
   "id": "ae1eb5e2-69ad-4a7e-93a3-1aeb1e0d75bf",
   "metadata": {},
   "outputs": [],
   "source": [
    "docker container list --all"
   ]
  },
  {
   "cell_type": "markdown",
   "id": "83817d9b-82d7-4482-a9f4-c9558117144d",
   "metadata": {},
   "source": [
    "## Start the broker in the Docker container environment\n"
   ]
  },
  {
   "cell_type": "code",
   "execution_count": null,
   "id": "59a13d3a-840b-43f0-b803-33fbd3cbb5e1",
   "metadata": {},
   "outputs": [],
   "source": [
    "docker container exec --detach mqtt-red \\\n",
    "  mosquitto -c /etc/mosquitto/mosquitto.conf -v\n",
    "docker container exec mqtt-red ps faux\n",
    "docker container exec mqtt-red netstat -plnt"
   ]
  },
  {
   "cell_type": "markdown",
   "id": "230c4b21-daac-4e2e-b416-041296ecde24",
   "metadata": {},
   "source": [
    "## Set up node-RED\n",
    "Pre-install the Node-RED dashboard ( optional )\n"
   ]
  },
  {
   "cell_type": "code",
   "execution_count": null,
   "id": "035b1a78-befc-4aed-b83e-1bb5778ef037",
   "metadata": {},
   "outputs": [],
   "source": [
    "docker container exec mqtt-red \\\n",
    "  npm install -g --unsafe-perm node-red-dashboard\n"
   ]
  },
  {
   "cell_type": "markdown",
   "id": "57200611-f773-42ee-ad6b-5c395dd9e40b",
   "metadata": {},
   "source": [
    "### Update software packages in container\n",
    "\n",
    "If you do this, you will probably want to do this before running Node-RED or anything else in the container. \n"
   ]
  },
  {
   "cell_type": "code",
   "execution_count": null,
   "id": "0186e5c9-238a-46c9-9ea7-f55de618a829",
   "metadata": {
    "scrolled": true
   },
   "outputs": [],
   "source": [
    "docker container exec --interactive mqtt-red /bin/bash <<'eof'\n",
    "  export DEBIAN_FRONTEND=noninteractive\n",
    "  apt-get -y autoclean\n",
    "  apt-get -y autoremove\n",
    "  apt-get update &&\n",
    "  apt-get -y dist-upgrade\n",
    "eof\n"
   ]
  },
  {
   "cell_type": "markdown",
   "id": "892ba951-e5c5-40e7-b401-d5c8eb01d9b9",
   "metadata": {},
   "source": [
    "---\n",
    "# Advanced usage\n"
   ]
  },
  {
   "cell_type": "markdown",
   "id": "95834b37-8f6e-42fa-ac11-4742b7c5520c",
   "metadata": {},
   "source": [
    "\n",
    "## Enter into an interactive container\n",
    "\n",
    "Open a terminal to run this.\n",
    "```bash\n",
    "docker container exec --interactive --tty mqtt-red /bin/bash\n",
    "```"
   ]
  },
  {
   "cell_type": "code",
   "execution_count": null,
   "id": "d5ea0606-64ea-4dbe-b7f9-5723a33d3550",
   "metadata": {},
   "outputs": [],
   "source": []
  }
 ],
 "metadata": {
  "kernelspec": {
   "display_name": "Bash",
   "language": "bash",
   "name": "bash"
  },
  "language_info": {
   "codemirror_mode": "shell",
   "file_extension": ".sh",
   "mimetype": "text/x-sh",
   "name": "bash"
  }
 },
 "nbformat": 4,
 "nbformat_minor": 5
}
