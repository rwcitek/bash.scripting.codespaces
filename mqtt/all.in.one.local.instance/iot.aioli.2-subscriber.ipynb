{
 "cells": [
  {
   "cell_type": "markdown",
   "id": "3fac2dd2-0d9f-40f5-9989-338aec277ce8",
   "metadata": {},
   "source": [
    "# Most-in-one Node-RED, subscriber, publisher container\n",
    "\n",
    "This version is similar to the original version,\n",
    "but differs in that it uses the public broker at \\[[mqtt.eclipseprojects.io]( https://mqtt.eclipseprojects.io/ )\\].\n",
    "\n",
    "For more info on [MQTT]( https://en.wikipedia.org/wiki/MQTT )\n",
    "\n",
    "These commmands have been tested and verify to work with Docker on a Chromebook and on GitHub's CodeSpaces.\n"
   ]
  },
  {
   "cell_type": "markdown",
   "id": "48d51857-d23e-4111-a37e-36d13f6ac047",
   "metadata": {},
   "source": [
    "## Verify that container exists\n"
   ]
  },
  {
   "cell_type": "code",
   "execution_count": null,
   "id": "15cf5e17-bf41-435e-a7d6-bd09bae6a6ae",
   "metadata": {},
   "outputs": [],
   "source": [
    "docker container list --all | grep mqtt-red\n"
   ]
  },
  {
   "cell_type": "markdown",
   "id": "b15fdc29-c519-44e3-9566-378da884c611",
   "metadata": {},
   "source": [
    "## Run a subscriber\n"
   ]
  },
  {
   "cell_type": "code",
   "execution_count": null,
   "id": "137cf667-a926-478d-bd57-cef189722bf4",
   "metadata": {},
   "outputs": [],
   "source": [
    "docker container exec mqtt-red \\\n",
    "  mosquitto_sub \\\n",
    "    --host localhost \\\n",
    "    --port 1883 \\\n",
    "    --topic feeds/test\n"
   ]
  },
  {
   "cell_type": "code",
   "execution_count": null,
   "id": "3513d919-eae3-4563-b5f2-9c8a250b8b83",
   "metadata": {},
   "outputs": [],
   "source": []
  }
 ],
 "metadata": {
  "kernelspec": {
   "display_name": "Bash",
   "language": "bash",
   "name": "bash"
  },
  "language_info": {
   "codemirror_mode": "shell",
   "file_extension": ".sh",
   "mimetype": "text/x-sh",
   "name": "bash"
  }
 },
 "nbformat": 4,
 "nbformat_minor": 5
}
